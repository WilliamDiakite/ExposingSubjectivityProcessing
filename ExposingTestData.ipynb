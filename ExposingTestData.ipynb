{
 "cells": [
  {
   "cell_type": "markdown",
   "metadata": {},
   "source": [
    "## Script that generate test data for front"
   ]
  },
  {
   "cell_type": "code",
   "execution_count": 23,
   "metadata": {},
   "outputs": [],
   "source": [
    "import re\n",
    "import json\n",
    "from pprint import pprint\n",
    "\n",
    "data = []\n",
    "for i in range(20):\n",
    "    data.append({\n",
    "        'assesion': i,\n",
    "        'researcher': \"This artefact was in the south of India in the late 18th\",\n",
    "        'primary': 'pale bronze vase from India',\n",
    "        'literature': 'the common objects of 18th century India'\n",
    "    })\n",
    "    data.append({\n",
    "        'assesion': 100 - i,\n",
    "        'researcher': \"funny sculpture of kid playing\",\n",
    "        'primary': 'scupture of child',\n",
    "        'literature': 'childhood in China'\n",
    "    })\n",
    "\n",
    "    \n",
    "def tokenize(text):\n",
    "    tok = re.sub(r\"[^a-zA-Z0-9]+\", ' ', text)\n",
    "    tok = tok.lower().split()\n",
    "    tok = [t for t in tok if t not in stopwords]\n",
    "    return tok\n",
    "\n",
    "\n",
    "with open('stopwords.txt') as f:\n",
    "    stopwords = [w.strip() for w in f.readlines()]\n",
    "  \n",
    "for i in range(len(data)):\n",
    "    c_researcher = [w for w in tokenize(data[i]['researcher'].lower()) if w not in stopwords]\n",
    "    c_primary = [w for w in tokenize(data[i]['primary'].lower()) if w not in stopwords]\n",
    "    c_literature = [w for w in tokenize(data[i]['literature'].lower()) if w not in stopwords]\n",
    "    \n",
    "    new = data[i]\n",
    "    new['c_researcher'] = c_researcher\n",
    "    new['c_primary'] = c_primary\n",
    "    new['c_literature'] = c_literature\n",
    "    data[i] = new    \n",
    "    \n",
    "with open('./front/public/data/test_data.json', 'w') as f:\n",
    "    json.dump(data, f, ensure_ascii=False, indent=4)\n"
   ]
  },
  {
   "cell_type": "code",
   "execution_count": 26,
   "metadata": {},
   "outputs": [
    {
     "name": "stdout",
     "output_type": "stream",
     "text": [
      "[{'label': 'artefact (20)', 'value': 'artefact'},\n",
      " {'label': 'south (20)', 'value': 'south'},\n",
      " {'label': 'india (60)', 'value': 'india'},\n",
      " {'label': 'late (20)', 'value': 'late'},\n",
      " {'label': '18th (40)', 'value': '18th'},\n",
      " {'label': 'pale (20)', 'value': 'pale'},\n",
      " {'label': 'bronze (20)', 'value': 'bronze'},\n",
      " {'label': 'vase (20)', 'value': 'vase'},\n",
      " {'label': 'common (20)', 'value': 'common'},\n",
      " {'label': 'objects (20)', 'value': 'objects'},\n",
      " {'label': 'century (20)', 'value': 'century'},\n",
      " {'label': 'funny (20)', 'value': 'funny'},\n",
      " {'label': 'sculpture (20)', 'value': 'sculpture'},\n",
      " {'label': 'kid (20)', 'value': 'kid'},\n",
      " {'label': 'playing (20)', 'value': 'playing'},\n",
      " {'label': 'scupture (20)', 'value': 'scupture'},\n",
      " {'label': 'child (20)', 'value': 'child'},\n",
      " {'label': 'childhood (20)', 'value': 'childhood'},\n",
      " {'label': 'china (20)', 'value': 'china'}]\n"
     ]
    }
   ],
   "source": [
    "from collections import Counter\n",
    "\n",
    "keywords = []\n",
    "for i in data:\n",
    "    keywords += i['c_researcher']\n",
    "    keywords += i['c_primary']\n",
    "    keywords += i['c_literature']\n",
    "    \n",
    "c = Counter(keywords)\n",
    "options = []\n",
    "for k in c:\n",
    "    options.append({\n",
    "        'value': k,\n",
    "        'label': k + ' (' + str(c[k]) + ')'\n",
    "    })\n",
    "    \n",
    "pprint(options)\n",
    "\n",
    "with open('./front/public/data/test_options.json', 'w') as f:\n",
    "    json.dump(options, f, ensure_ascii=False, indent=4)"
   ]
  }
 ],
 "metadata": {
  "kernelspec": {
   "display_name": "Python 3",
   "language": "python",
   "name": "python3"
  },
  "language_info": {
   "codemirror_mode": {
    "name": "ipython",
    "version": 3
   },
   "file_extension": ".py",
   "mimetype": "text/x-python",
   "name": "python",
   "nbconvert_exporter": "python",
   "pygments_lexer": "ipython3",
   "version": "3.7.3"
  }
 },
 "nbformat": 4,
 "nbformat_minor": 2
}
