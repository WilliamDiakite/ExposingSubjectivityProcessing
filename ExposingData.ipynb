{
 "cells": [
  {
   "cell_type": "code",
   "execution_count": 92,
   "metadata": {},
   "outputs": [],
   "source": [
    "import pandas as pd\n",
    "import re\n",
    "\n",
    "def tokenize(text):\n",
    "    if not isinstance(text, str):\n",
    "        return '[]'\n",
    "    \n",
    "    tok = re.sub(r\"[^a-zA-Z0-9]+\", ' ', text)\n",
    "    tok = tok.lower().split()\n",
    "    tok = [t for t in tok if t not in stopwords]\n",
    "    return tok\n",
    "\n",
    "def clean(x):\n",
    "    if not isinstance(x, str):\n",
    "        return 'no description available'\n",
    "    else:\n",
    "        if len(x) < 3:\n",
    "            return 'no description available'\n",
    "        else:\n",
    "            return x\n",
    "            \n",
    "def parseYear(accession):\n",
    "    year = re.search(r'\\d+', accession).group()\n",
    "    return year\n",
    "    \n",
    "\n",
    "\n",
    "with open('stopwords.txt') as f:\n",
    "    stopwords = [w.strip() for w in f.readlines()]\n",
    "    \n",
    "\n",
    "primary = pd.read_csv('Data/CSV/05 - Primary Docs.csv')\n",
    "what = pd.read_csv('Data/CSV/02 – DS What.csv')\n",
    "\n",
    "primary = primary.drop('Unnamed: 2', axis=1)\n",
    "primary = primary.drop('Unnamed: 3', axis=1)\n",
    "primary = primary.drop('Unnamed: 4', axis=1)\n",
    "\n",
    "what = what.drop('Unnamed: 4', axis=1)\n",
    "what = what.drop('Description', axis=1)"
   ]
  },
  {
   "cell_type": "code",
   "execution_count": 93,
   "metadata": {},
   "outputs": [],
   "source": [
    "data = primary.merge(what, on='Accession Number')\n",
    "data = data.rename(columns={\n",
    "        'Accession Number': 'accession',\n",
    "        'Primary documentation': 'primary',\n",
    "        'Research notes': 'researcher',\n",
    "        'Publications history': 'literature'\n",
    "    })"
   ]
  },
  {
   "cell_type": "code",
   "execution_count": 94,
   "metadata": {},
   "outputs": [],
   "source": [
    "data['c_primary'] = data.primary.apply(tokenize)\n",
    "data['c_researcher'] = data.researcher.apply(tokenize)\n",
    "data['c_literature'] = data.literature.apply(tokenize)\n",
    "\n",
    "data['primary'] = data.primary.apply(clean)\n",
    "data['researcher'] = data.researcher.apply(clean)\n",
    "data['literature'] = data.literature.apply(clean)"
   ]
  },
  {
   "cell_type": "code",
   "execution_count": 96,
   "metadata": {},
   "outputs": [],
   "source": [
    "def f(x):\n",
    "    if isinstance(x, str):\n",
    "        y = x.split('.')[0]\n",
    "        \n",
    "        if '[' == y[0]:\n",
    "            y = y[1:]\n",
    "            \n",
    "        try:\n",
    "            y = int(y)\n",
    "            return y\n",
    "        except:\n",
    "            return -1 \n",
    "    else:\n",
    "        return -1\n",
    "   \n",
    "data['year'] = data.accession.apply(f)"
   ]
  },
  {
   "cell_type": "code",
   "execution_count": 98,
   "metadata": {},
   "outputs": [
    {
     "name": "stdout",
     "output_type": "stream",
     "text": [
      "74483\n"
     ]
    }
   ],
   "source": [
    "stack = data.c_primary.tolist() + data.c_literature.tolist() + data.c_researcher.tolist()\n",
    "\n",
    "keywords = []\n",
    "for l in stack:\n",
    "    keywords += l\n",
    "    \n",
    "print(len(set(keywords)))"
   ]
  },
  {
   "cell_type": "code",
   "execution_count": 100,
   "metadata": {},
   "outputs": [],
   "source": [
    "from collections import Counter\n",
    "from pprint import pprint\n",
    "import json\n",
    "\n",
    "c = Counter(keywords)\n",
    "options = []\n",
    "for k in c.most_common():\n",
    "    options.append({\n",
    "        'value': k[0],\n",
    "        'label': k[0] + ' (' + str([1]) + ')'\n",
    "    })\n",
    "    \n",
    "    \n",
    "data.to_json('./front/public/data/data.json', orient='records')\n",
    "    \n",
    "with open('./front/public/data/options.json', 'w') as f:\n",
    "    #with open('options.json', 'w') as f:\n",
    "    json.dump(options, f, ensure_ascii=False, indent=4)"
   ]
  }
 ],
 "metadata": {
  "kernelspec": {
   "display_name": "Python 3",
   "language": "python",
   "name": "python3"
  },
  "language_info": {
   "codemirror_mode": {
    "name": "ipython",
    "version": 3
   },
   "file_extension": ".py",
   "mimetype": "text/x-python",
   "name": "python",
   "nbconvert_exporter": "python",
   "pygments_lexer": "ipython3",
   "version": "3.7.3"
  }
 },
 "nbformat": 4,
 "nbformat_minor": 2
}
